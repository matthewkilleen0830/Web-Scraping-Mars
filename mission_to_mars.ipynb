{
 "cells": [
  {
   "cell_type": "markdown",
   "metadata": {},
   "source": [
    "# Step 1 - Scraping\n",
    "\n",
    "Complete your initial scraping using Jupyter Notebook, BeautifulSoup, Pandas, and Requests/Splinter."
   ]
  },
  {
   "cell_type": "markdown",
   "metadata": {},
   "source": [
    "### NASA Mars News\n",
    "\n",
    "- Collect the latest News Title and Paragraph Text"
   ]
  },
  {
   "cell_type": "code",
   "execution_count": null,
   "metadata": {},
   "outputs": [],
   "source": [
    "# Dependencies and setup\n",
    "from bs4 import BeautifulSoup as bs\n",
    "from splinter import Browser\n",
    "from webdriver_manager.chrome import ChromeDriverManager\n",
    "import pandas as pd\n",
    "import os\n",
    "import time"
   ]
  },
  {
   "cell_type": "code",
   "execution_count": null,
   "metadata": {
    "scrolled": true
   },
   "outputs": [],
   "source": [
    "# Set up splinter\n",
    "executable_path = {\"executable_path\":ChromeDriverManager().install()}\n",
    "browser = Browser(\"chrome\", **executable_path, headless = False)"
   ]
  },
  {
   "cell_type": "code",
   "execution_count": null,
   "metadata": {},
   "outputs": [],
   "source": [
    "# URL of page to be scraped\n",
    "newsURL = \"https://redplanetscience.com\"\n",
    "browser.visit(newsURL)"
   ]
  },
  {
   "cell_type": "code",
   "execution_count": null,
   "metadata": {},
   "outputs": [],
   "source": [
    "# Declare variables to store scraped Title and Teaser \n",
    "newsTitle = browser.find_by_css(\".content_title\")[0].text\n",
    "paragraphText = browser.find_by_css(\".article_teaser_body\")[0].text\n",
    "print(\"------------------------------------------------------------------\")\n",
    "print(f\"Article:  {newsTitle}\")\n",
    "print(f\"Teaser:   {paragraphText}\")"
   ]
  },
  {
   "cell_type": "markdown",
   "metadata": {},
   "source": [
    "### JPL Mars Space Images - Featured Image\n",
    "\n",
    "- Find the image url for the current featured Mars image"
   ]
  },
  {
   "cell_type": "code",
   "execution_count": null,
   "metadata": {},
   "outputs": [],
   "source": [
    "# URL of page to be scraped\n",
    "imageURL = \"https://spaceimages-mars.com/\"\n",
    "browser.visit(imageURL)"
   ]
  },
  {
   "cell_type": "code",
   "execution_count": null,
   "metadata": {},
   "outputs": [],
   "source": [
    "# HTML object\n",
    "imageHTML = browser.html\n",
    "    \n",
    "# Parse HTML with BeautifulSoup\n",
    "imageSoup = bs(imageHTML, \"html.parser\")"
   ]
  },
  {
   "cell_type": "code",
   "execution_count": null,
   "metadata": {},
   "outputs": [],
   "source": [
    "# Find href within anchor tag element\n",
    "featuredImage = imageSoup.find(\"a\", class_ = \"showimg fancybox-thumbs\")[\"href\"]\n",
    "\n",
    "# Declare variable and combine main URL with link\n",
    "featured_image_url = f\"https://spaceimages-mars.com/{featuredImage}\"\n",
    "print(f\"Featured Image URL:  {featured_image_url}\")"
   ]
  },
  {
   "cell_type": "markdown",
   "metadata": {},
   "source": [
    "### Mars Facts\n",
    "\n",
    "- Use Pandas to scrape the table containing facts about the planet including Diameter, Mass, etc.\n",
    "- Use Pandas to convert the data to a HTML table string."
   ]
  },
  {
   "cell_type": "code",
   "execution_count": null,
   "metadata": {},
   "outputs": [],
   "source": [
    "# Use the read_html function in pandas to automatically scrape tabular data\n",
    "tableURL = \"https://galaxyfacts-mars.com\"\n",
    "marsTable = pd.read_html(tableURL)\n",
    "marsTable"
   ]
  },
  {
   "cell_type": "code",
   "execution_count": null,
   "metadata": {},
   "outputs": [],
   "source": [
    "# Slice off DataFrame that we want using normal indexing\n",
    "marsFacts_df = marsTable[0]\n",
    "marsFacts_df"
   ]
  },
  {
   "cell_type": "code",
   "execution_count": null,
   "metadata": {},
   "outputs": [],
   "source": [
    "# Extract first row from DataFrame and set it as the header\n",
    "new_header = marsFacts_df.iloc[0]\n",
    "marsFacts_df = marsFacts_df[1:]\n",
    "marsFacts_df.columns = new_header\n",
    "marsFacts_df"
   ]
  },
  {
   "cell_type": "code",
   "execution_count": null,
   "metadata": {},
   "outputs": [],
   "source": [
    "# Export DataFrame to HTML\n",
    "marsFacts_table = marsFacts_df.to_html()"
   ]
  },
  {
   "cell_type": "markdown",
   "metadata": {},
   "source": [
    "### Mars Hemispheres\n",
    "\n",
    "- Obtain high resolution images for each of Mars's hemispheres (find the image url to the full resolution image).\n",
    "- Save both the image url string for the full resolution hemisphere image, and the hemisphere title containing the hemisphere name. Use a Python dictionary to store the data using the keys \"img_url\" and \"title.\"\n",
    "- Append the dictionary with the image url string and the hemisphere title to a list. This list will contain one dictionary for each hemisphere."
   ]
  },
  {
   "cell_type": "code",
   "execution_count": null,
   "metadata": {},
   "outputs": [],
   "source": [
    "# URL of page to be scraped\n",
    "hemispheresURL = \"https://marshemispheres.com/\"\n",
    "browser.visit(hemispheresURL)"
   ]
  },
  {
   "cell_type": "code",
   "execution_count": null,
   "metadata": {},
   "outputs": [],
   "source": [
    "# Create empty list to be appended with dictionaries\n",
    "hemisphere_image_urls = []"
   ]
  },
  {
   "cell_type": "code",
   "execution_count": null,
   "metadata": {},
   "outputs": [],
   "source": [
    "# Declare variable to store scraped links\n",
    "imageLinks = browser.find_by_css(\"a.itemLink img\")"
   ]
  },
  {
   "cell_type": "code",
   "execution_count": null,
   "metadata": {},
   "outputs": [],
   "source": [
    "# Iterate through each element\n",
    "for link in range(len(imageLinks)):\n",
    "        \n",
    "    # Create empty dictionary\n",
    "    imageDict = {}\n",
    "\n",
    "    # Locate and follow each subsequent link\n",
    "    browser.find_by_css(\"a.product-item img\")[link].click()\n",
    "\n",
    "    # Declare variable to store scraped image URL\n",
    "    image = browser.links.find_by_text(\"Sample\").first\n",
    "\n",
    "    # Append scraped image URL and scraped Title to dictionary\n",
    "    imageDict[\"img_url\"] = image[\"href\"]\n",
    "    imageDict[\"title\"] = browser.find_by_css(\"h2.title\").text\n",
    "        \n",
    "    # Append list with scraped dictionary\n",
    "    hemisphere_image_urls.append(imageDict)\n",
    "        \n",
    "    # Go back\n",
    "    browser.back()"
   ]
  },
  {
   "cell_type": "code",
   "execution_count": null,
   "metadata": {},
   "outputs": [],
   "source": [
    "hemisphere_image_urls"
   ]
  },
  {
   "cell_type": "code",
   "execution_count": null,
   "metadata": {},
   "outputs": [],
   "source": [
    "# Create and append single dictionary with all scraped data\n",
    "scrapedData = {\n",
    "\"News_Title\":newsTitle, \n",
    "\"News_Text\":paragraphText,\n",
    "\"Featured_Image\":featured_image_url,\n",
    "\"Mars_Facts\":marsFacts_table,\n",
    "\"Hemisphere_Images\":hemisphere_image_urls\n",
    "}\n",
    "\n",
    "# Close remote browser\n",
    "browser.quit()"
   ]
  },
  {
   "cell_type": "code",
   "execution_count": null,
   "metadata": {},
   "outputs": [],
   "source": [
    "scrapedData"
   ]
  },
  {
   "cell_type": "code",
   "execution_count": null,
   "metadata": {},
   "outputs": [],
   "source": []
  }
 ],
 "metadata": {
  "kernelspec": {
   "display_name": "Python 3",
   "language": "python",
   "name": "python3"
  },
  "language_info": {
   "codemirror_mode": {
    "name": "ipython",
    "version": 3
   },
   "file_extension": ".py",
   "mimetype": "text/x-python",
   "name": "python",
   "nbconvert_exporter": "python",
   "pygments_lexer": "ipython3",
   "version": "3.6.10"
  }
 },
 "nbformat": 4,
 "nbformat_minor": 4
}
