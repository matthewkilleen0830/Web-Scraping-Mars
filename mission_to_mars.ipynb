{
 "cells": [
  {
   "cell_type": "markdown",
   "metadata": {},
   "source": [
    "# Step 1 - Scraping\n",
    "\n",
    "Complete your initial scraping using Jupyter Notebook, BeautifulSoup, Pandas, and Requests/Splinter."
   ]
  },
  {
   "cell_type": "markdown",
   "metadata": {},
   "source": [
    "### NASA Mars News\n",
    "\n",
    "- Collect the latest News Title and Paragraph Text"
   ]
  },
  {
   "cell_type": "code",
   "execution_count": null,
   "metadata": {},
   "outputs": [],
   "source": [
    "# Dependencies and setup\n",
    "from bs4 import BeautifulSoup as bs\n",
    "from splinter import Browser\n",
    "from webdriver_manager.chrome import ChromeDriverManager\n",
    "import pandas as pd\n",
    "import os\n",
    "import requests\n",
    "import pymongo"
   ]
  },
  {
   "cell_type": "code",
   "execution_count": null,
   "metadata": {},
   "outputs": [],
   "source": [
    "# Set up splinter\n",
    "executable_path = {\"executable_path\":ChromeDriverManager().install()}\n",
    "browser = Browser(\"chrome\", **executable_path, headless = False)"
   ]
  },
  {
   "cell_type": "code",
   "execution_count": null,
   "metadata": {},
   "outputs": [],
   "source": [
    "# Initialize PyMongo to work with MongoDBs\n",
    "conn = \"mongodb://localhost:27017\"\n",
    "client = pymongo.MongoClient(conn)"
   ]
  },
  {
   "cell_type": "code",
   "execution_count": null,
   "metadata": {},
   "outputs": [],
   "source": [
    "# Define database and collection\n",
    "db = client.mars_db\n",
    "collection = db.headlines"
   ]
  },
  {
   "cell_type": "code",
   "execution_count": null,
   "metadata": {},
   "outputs": [],
   "source": [
    "# URL of page to be scraped\n",
    "newsURL = \"https://redplanetscience.com\"\n",
    "browser.visit(newsURL)"
   ]
  },
  {
   "cell_type": "code",
   "execution_count": null,
   "metadata": {},
   "outputs": [],
   "source": [
    "# Loop through homepage\n",
    "for x in range(1):\n",
    "    \n",
    "    # HTML object\n",
    "    html = browser.html\n",
    "    \n",
    "    # Parse HTML with BeautifulSoup\n",
    "    soup = bs(html, \"html.parser\")\n",
    "    \n",
    "    # Retrieve all elements that contain News Titles and Paragraph Text\n",
    "    articles = soup.find_all(\"div\", class_ = \"list_text\")\n",
    "    \n",
    "    # Iterate through each headline\n",
    "    for article in articles:\n",
    "        \n",
    "        # Use BeautifulSoup's find() method to navigate and retrieve attributes\n",
    "        newsTitle = article.find(\"div\", class_ = \"content_title\").text\n",
    "        paragraphText = article.find(\"div\", class_ = \"article_teaser_body\").text\n",
    "        print(\"------------------------------------------\")\n",
    "        print(f\"Article:  {newsTitle}\")\n",
    "        print(f\"Teaser:  {paragraphText}\")\n",
    "    \n",
    "    # Dictionary to be inserted as a MongoDB document\n",
    "        post = {\n",
    "            \"Title\": newsTitle,\n",
    "            \"Paragraph Content\": paragraphText,\n",
    "        }\n",
    "            \n",
    "        collection.insert_one(post)"
   ]
  },
  {
   "cell_type": "markdown",
   "metadata": {},
   "source": [
    "### JPL Mars Space Images - Featured Image\n",
    "\n",
    "- Find the image url for the current featured Mars image"
   ]
  },
  {
   "cell_type": "code",
   "execution_count": null,
   "metadata": {},
   "outputs": [],
   "source": [
    "# URL of page to be scraped\n",
    "imageURL = \"https://spaceimages-mars.com/\"\n",
    "browser.visit(imageURL)"
   ]
  },
  {
   "cell_type": "code",
   "execution_count": null,
   "metadata": {},
   "outputs": [],
   "source": [
    "# HTML object\n",
    "imageHTML = browser.html\n",
    "    \n",
    "# Parse HTML with BeautifulSoup\n",
    "imageSoup = bs(imageHTML, \"html.parser\")"
   ]
  },
  {
   "cell_type": "code",
   "execution_count": null,
   "metadata": {},
   "outputs": [],
   "source": [
    "# Find href within anchor tag element\n",
    "featuredImage = imageSoup.find(\"a\", class_ = \"showimg fancybox-thumbs\")[\"href\"]\n",
    "\n",
    "# Declare variable and combine main URL with link\n",
    "featured_image_url = f\"https://spaceimages-mars.com/{featuredImage}\"\n",
    "print(f\"Featured Image URL:  {featured_image_url}\")"
   ]
  },
  {
   "cell_type": "markdown",
   "metadata": {},
   "source": [
    "### Mars Facts\n",
    "\n",
    "- Use Pandas to scrape the table containing facts about the planet including Diameter, Mass, etc.\n",
    "- Use Pandas to convert the data to a HTML table string."
   ]
  },
  {
   "cell_type": "code",
   "execution_count": null,
   "metadata": {},
   "outputs": [],
   "source": [
    "# Use the read_html function in pandas to automatically scrape tabular data\n",
    "tableURL = \"https://galaxyfacts-mars.com\"\n",
    "tables = pd.read_html(tableURL)"
   ]
  },
  {
   "cell_type": "code",
   "execution_count": null,
   "metadata": {},
   "outputs": [],
   "source": [
    "# Slice off DataFrame that we want using normal indexing\n",
    "marsFacts_df = tables[0]\n",
    "marsFacts_df"
   ]
  },
  {
   "cell_type": "markdown",
   "metadata": {},
   "source": [
    "### Mars Hemispheres\n",
    "\n",
    "- Obtain high resolution images for each of Mars's hemispheres (find the image url to the full resolution image).\n",
    "- Save both the image url string for the full resolution hemisphere image, and the hemisphere title containing the hemisphere name. Use a Python dictionary to store the data using the keys \"img_url\" and \"title.\"\n",
    "- Append the dictionary with the image url string and the hemisphere title to a list. This list will contain one dictionary for each hemisphere."
   ]
  },
  {
   "cell_type": "code",
   "execution_count": null,
   "metadata": {},
   "outputs": [],
   "source": [
    "# URL of page to be scraped\n",
    "hemispheresURL = \"https://marshemispheres.com/\"\n",
    "browser.visit(hemispheresURL)"
   ]
  },
  {
   "cell_type": "code",
   "execution_count": null,
   "metadata": {},
   "outputs": [],
   "source": [
    "# HTML object\n",
    "hemispheresHTML = browser.html\n",
    "    \n",
    "# Parse HTML with BeautifulSoup\n",
    "hemispheresSoup = bs(hemispheresHTML, \"html.parser\")\n",
    "    \n",
    "# Retrieve all elements that contain image URLs to the full resolution image\n",
    "links = hemispheresSoup.find_all(\"div\", class_ = \"description\")\n",
    "\n",
    "# Create empty list to be appended with dictionaries\n",
    "hemisphere_image_urls = []"
   ]
  },
  {
   "cell_type": "code",
   "execution_count": null,
   "metadata": {},
   "outputs": [],
   "source": [
    "# Iterate through each description\n",
    "for link in links:\n",
    "        \n",
    "    # Use BeautifulSoup's find() method to navigate and retrieve attributes\n",
    "    imageTitle = link.find(\"h3\").text\n",
    "    imageLink = link.find(\"a\", class_ = \"itemLink product-item\")[\"href\"]\n",
    "    \n",
    "    # Visit the link with the full resolution image\n",
    "    browser.visit(hemispheresURL + imageLink)\n",
    "    \n",
    "    # HTML object\n",
    "    linkHTML = browser.html\n",
    "    \n",
    "    # Parse HTML with BeautifulSoup\n",
    "    linkSoup = bs(linkHTML, \"html.parser\")\n",
    "    \n",
    "    # Full resolution image URL\n",
    "    fullURL = hemispheresURL + linkSoup.find(\"img\", class_ = \"wide-image\")[\"src\"]\n",
    "    \n",
    "    # Append to list of dictionaries\n",
    "    hemisphere_image_urls.append({\"title\":imageTitle, \"img_url\":fullURL})\n",
    "    \n",
    "    # Display titles and links\n",
    "    print(\"------------------------------------------\")\n",
    "    print(f\"Title:  {imageTitle}\")\n",
    "    print(f\"Link:   {fullURL}\")\n",
    "\n",
    "# Display end statement    \n",
    "print(\" \")\n",
    "print(\"Scraping Complete.\")"
   ]
  },
  {
   "cell_type": "code",
   "execution_count": null,
   "metadata": {},
   "outputs": [],
   "source": [
    "# Close remote browser\n",
    "browser.quit()"
   ]
  },
  {
   "cell_type": "code",
   "execution_count": null,
   "metadata": {},
   "outputs": [],
   "source": []
  }
 ],
 "metadata": {
  "kernelspec": {
   "display_name": "Python 3",
   "language": "python",
   "name": "python3"
  },
  "language_info": {
   "codemirror_mode": {
    "name": "ipython",
    "version": 3
   },
   "file_extension": ".py",
   "mimetype": "text/x-python",
   "name": "python",
   "nbconvert_exporter": "python",
   "pygments_lexer": "ipython3",
   "version": "3.6.10"
  }
 },
 "nbformat": 4,
 "nbformat_minor": 4
}
