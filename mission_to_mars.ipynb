{
 "cells": [
  {
   "cell_type": "markdown",
   "metadata": {},
   "source": [
    "# Step 1 - Scraping\n",
    "\n",
    "- Collect the latest News Title and Paragraph Text"
   ]
  },
  {
   "cell_type": "code",
   "execution_count": null,
   "metadata": {},
   "outputs": [],
   "source": [
    "# Dependencies and setup\n",
    "from bs4 import BeautifulSoup as bs\n",
    "from splinter import Browser\n",
    "from webdriver_manager.chrome import ChromeDriverManager\n",
    "import pandas as pd\n",
    "import os\n",
    "import requests"
   ]
  },
  {
   "cell_type": "code",
   "execution_count": null,
   "metadata": {},
   "outputs": [],
   "source": [
    "# Set up splinter\n",
    "executable_path = {\"executable_path\":ChromeDriverManager().install()}\n",
    "browser = Browser(\"chrome\", **executable_path, headless = False)"
   ]
  },
  {
   "cell_type": "code",
   "execution_count": null,
   "metadata": {},
   "outputs": [],
   "source": [
    "# URL of page to be scraped\n",
    "url = \"https://redplanetscience.com\"\n",
    "browser.visit(url)"
   ]
  },
  {
   "cell_type": "code",
   "execution_count": null,
   "metadata": {},
   "outputs": [],
   "source": [
    "# Loop through homepage\n",
    "for x in range(1):\n",
    "    \n",
    "    # HTML object\n",
    "    html = browser.html\n",
    "    \n",
    "    # Parse HTML with BeautifulSoup\n",
    "    soup = bs(html, \"html.parser\")\n",
    "    \n",
    "    # Retrieve all elements that contain News Titles and Paragraph Text\n",
    "    articles = soup.find_all(\"div\", class_ = \"list_text\")\n",
    "    \n",
    "    # Iterate through each headline\n",
    "    for article in articles:\n",
    "        \n",
    "        # Use BeautifulSoup's find() method to navigate and retrieve attributes\n",
    "        newsTitle = article.find(\"div\", class_ = \"content_title\").text\n",
    "        paragraphText = article.find(\"div\", class_ = \"article_teaser_body\").text\n",
    "        print(\"------------------------------------------\")\n",
    "        print(f\"Article:  {newsTitle}\")\n",
    "        print(f\"Content:  {paragraphText}\")\n",
    "    \n",
    "    # Dictionary to be inserted as a MongoDB document\n",
    "        post = {\n",
    "            \"Title\": newsTitle,\n",
    "            \"Paragraph Content\": paragraphText,\n",
    "        }\n",
    "            \n",
    "        # collection.insert_one(post)"
   ]
  },
  {
   "cell_type": "code",
   "execution_count": null,
   "metadata": {},
   "outputs": [],
   "source": []
  }
 ],
 "metadata": {
  "kernelspec": {
   "display_name": "Python 3",
   "language": "python",
   "name": "python3"
  },
  "language_info": {
   "codemirror_mode": {
    "name": "ipython",
    "version": 3
   },
   "file_extension": ".py",
   "mimetype": "text/x-python",
   "name": "python",
   "nbconvert_exporter": "python",
   "pygments_lexer": "ipython3",
   "version": "3.6.10"
  }
 },
 "nbformat": 4,
 "nbformat_minor": 4
}
