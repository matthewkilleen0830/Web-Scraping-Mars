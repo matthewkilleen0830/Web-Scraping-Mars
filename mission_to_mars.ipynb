{
 "cells": [
  {
   "cell_type": "markdown",
   "metadata": {},
   "source": [
    "# Step 1 - Scraping"
   ]
  },
  {
   "cell_type": "markdown",
   "metadata": {},
   "source": [
    "### NASA Mars News\n",
    "\n",
    "- Collect the latest News Title and Paragraph Text"
   ]
  },
  {
   "cell_type": "code",
   "execution_count": null,
   "metadata": {},
   "outputs": [],
   "source": [
    "# Dependencies and setup\n",
    "from bs4 import BeautifulSoup as bs\n",
    "from splinter import Browser\n",
    "from webdriver_manager.chrome import ChromeDriverManager\n",
    "import pandas as pd\n",
    "import os\n",
    "import requests\n",
    "import pymongo"
   ]
  },
  {
   "cell_type": "code",
   "execution_count": null,
   "metadata": {},
   "outputs": [],
   "source": [
    "# Set up splinter\n",
    "executable_path = {\"executable_path\":ChromeDriverManager().install()}\n",
    "browser = Browser(\"chrome\", **executable_path, headless = False)"
   ]
  },
  {
   "cell_type": "code",
   "execution_count": null,
   "metadata": {},
   "outputs": [],
   "source": [
    "# Initialize PyMongo to work with MongoDBs\n",
    "conn = \"mongodb://localhost:27017\"\n",
    "client = pymongo.MongoClient(conn)"
   ]
  },
  {
   "cell_type": "code",
   "execution_count": null,
   "metadata": {},
   "outputs": [],
   "source": [
    "# Define database and collection\n",
    "db = client.mars_db\n",
    "collection = db.headlines"
   ]
  },
  {
   "cell_type": "code",
   "execution_count": null,
   "metadata": {},
   "outputs": [],
   "source": [
    "# URL of page to be scraped\n",
    "newsURL = \"https://redplanetscience.com\"\n",
    "browser.visit(newsURL)"
   ]
  },
  {
   "cell_type": "code",
   "execution_count": null,
   "metadata": {},
   "outputs": [],
   "source": [
    "# Loop through homepage\n",
    "for x in range(1):\n",
    "    \n",
    "    # HTML object\n",
    "    html = browser.html\n",
    "    \n",
    "    # Parse HTML with BeautifulSoup\n",
    "    soup = bs(html, \"html.parser\")\n",
    "    \n",
    "    # Retrieve all elements that contain News Titles and Paragraph Text\n",
    "    articles = soup.find_all(\"div\", class_ = \"list_text\")\n",
    "    \n",
    "    # Iterate through each headline\n",
    "    for article in articles:\n",
    "        \n",
    "        # Use BeautifulSoup's find() method to navigate and retrieve attributes\n",
    "        newsTitle = article.find(\"div\", class_ = \"content_title\").text\n",
    "        paragraphText = article.find(\"div\", class_ = \"article_teaser_body\").text\n",
    "        print(\"------------------------------------------\")\n",
    "        print(f\"Article:  {newsTitle}\")\n",
    "        print(f\"Content:  {paragraphText}\")\n",
    "    \n",
    "    # Dictionary to be inserted as a MongoDB document\n",
    "        post = {\n",
    "            \"Title\": newsTitle,\n",
    "            \"Paragraph Content\": paragraphText,\n",
    "        }\n",
    "            \n",
    "        collection.insert_one(post)"
   ]
  },
  {
   "cell_type": "markdown",
   "metadata": {},
   "source": [
    "### JPL Mars Space Images - Featured Image\n",
    "\n",
    "- Find the image url for the current featured Mars image"
   ]
  },
  {
   "cell_type": "code",
   "execution_count": null,
   "metadata": {},
   "outputs": [],
   "source": [
    "# URL of page to be scraped\n",
    "imageURL = \"https://spaceimages-mars.com/\"\n",
    "browser.visit(imageURL)"
   ]
  },
  {
   "cell_type": "code",
   "execution_count": null,
   "metadata": {},
   "outputs": [],
   "source": [
    "# HTML object\n",
    "imageHTML = browser.html\n",
    "    \n",
    "# Parse HTML with BeautifulSoup\n",
    "imageSoup = bs(imageHTML, \"html.parser\")"
   ]
  },
  {
   "cell_type": "code",
   "execution_count": null,
   "metadata": {},
   "outputs": [],
   "source": [
    "# Find href within anchor tag element\n",
    "featuredImage = soup.find(\"a\", class_ = \"showimg fancybox-thumbs\")[\"href\"]\n",
    "\n",
    "# Declare variable and combine main URL with link\n",
    "featured_image_url = f\"https://spaceimages-mars.com/{featuredImage}\"\n",
    "print(f\"Featured Image URL:  {featured_image_url}\")"
   ]
  },
  {
   "cell_type": "code",
   "execution_count": null,
   "metadata": {},
   "outputs": [],
   "source": []
  },
  {
   "cell_type": "code",
   "execution_count": null,
   "metadata": {},
   "outputs": [],
   "source": [
    "# Close remote browser\n",
    "browser.quit()"
   ]
  }
 ],
 "metadata": {
  "kernelspec": {
   "display_name": "Python 3",
   "language": "python",
   "name": "python3"
  },
  "language_info": {
   "codemirror_mode": {
    "name": "ipython",
    "version": 3
   },
   "file_extension": ".py",
   "mimetype": "text/x-python",
   "name": "python",
   "nbconvert_exporter": "python",
   "pygments_lexer": "ipython3",
   "version": "3.6.10"
  }
 },
 "nbformat": 4,
 "nbformat_minor": 4
}
